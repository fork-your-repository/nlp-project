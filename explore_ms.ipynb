{
 "cells": [
  {
   "cell_type": "code",
   "execution_count": 2,
   "id": "4473840e-bf12-4a8c-98db-041be45c9e0d",
   "metadata": {},
   "outputs": [],
   "source": [
    "import pandas as pd\n",
    "import numpy as np\n",
    "import nltk\n",
    "import os\n",
    "import json\n",
    "import requests \n",
    "import time\n",
    "# import wrangle as w\n",
    "import matplotlib.pyplot as plt\n",
    "import unicodedata\n",
    "from bs4 import BeautifulSoup\n",
    "from typing import Dict, List, Optional, Union, cast\n",
    "from env_miatta import github_token, github_username\n",
    "from pprint import pprint\n",
    "from sklearn.model_selection import train_test_split\n",
    "from sklearn.linear_model import LogisticRegression\n",
    "from sklearn.metrics import classification_report, accuracy_score, confusion_matrix\n",
    "from sklearn.metrics import accuracy_score\n",
    "from sklearn.tree import DecisionTreeClassifier, plot_tree\n",
    "from sklearn.ensemble import RandomForestClassifier\n",
    "from nltk.tokenize.toktok import ToktokTokenizer\n",
    "from nltk.corpus import stopwords\n",
    "%matplotlib inline\n",
    "from time import strftime\n",
    "from sklearn.feature_extraction.text import TfidfVectorizer, CountVectorizer"
   ]
  },
  {
   "cell_type": "markdown",
   "id": "3ae6ee05-9bb2-4e10-8614-3e2d809d8451",
   "metadata": {
    "tags": []
   },
   "source": [
    "# ACQUIRE"
   ]
  },
  {
   "cell_type": "code",
   "execution_count": null,
   "id": "e7d5cabd-68c7-463b-9715-4466c86ac31d",
   "metadata": {},
   "outputs": [],
   "source": [
    "# import json\n",
    "# import pandas as pd\n",
    "\n",
    "# def combine_json_files_and_save(json_file_names, output_file_name):\n",
    "#     combined_data = []\n",
    "\n",
    "#     for file_name in json_file_names:\n",
    "#         with open(file_name, \"r\") as json_file:\n",
    "#             data = json.load(json_file)\n",
    "#             combined_data.extend(data)\n",
    "\n",
    "#     with open(output_file_name, \"w\") as combined_json_file:\n",
    "#         json.dump(combined_data, combined_json_file, indent=1)\n",
    "\n",
    "# # List of JSON file names\n",
    "# json_file_names = [\n",
    "#     'data1.json',\n",
    "#     'data3.json',\n",
    "#     'data4.json',\n",
    "#     # ... (other file names)\n",
    "#     'data24.json'\n",
    "# ]\n",
    "\n",
    "# # Output file name for combined data\n",
    "# output_file_name = \"data2.json\"\n",
    "\n",
    "# # Call the function to combine JSON files and write the output\n",
    "# combine_json_files_and_save(json_file_names, output_file_name)\n",
    "\n",
    "# # Read the combined JSON data into a DataFrame\n",
    "# words_df = pd.read_json(output_file_name)\n"
   ]
  },
  {
   "cell_type": "markdown",
   "id": "19dd1618-0173-4f18-9c81-cc718c681502",
   "metadata": {},
   "source": [
    "DATA TYPE SUMMARY"
   ]
  },
  {
   "cell_type": "markdown",
   "id": "e8cd9a68-4ec7-4912-8321-6fa782d9e74f",
   "metadata": {},
   "source": [
    "26 integer data types originally now 3\n",
    "9 object data type originally now 1\n",
    "0 null values\n",
    "no missing values"
   ]
  },
  {
   "cell_type": "code",
   "execution_count": 4,
   "id": "91c3f9e4-c734-49de-8764-ea518ac4ede6",
   "metadata": {},
   "outputs": [
    {
     "data": {
      "text/html": [
       "<div>\n",
       "<style scoped>\n",
       "    .dataframe tbody tr th:only-of-type {\n",
       "        vertical-align: middle;\n",
       "    }\n",
       "\n",
       "    .dataframe tbody tr th {\n",
       "        vertical-align: top;\n",
       "    }\n",
       "\n",
       "    .dataframe thead th {\n",
       "        text-align: right;\n",
       "    }\n",
       "</style>\n",
       "<table border=\"1\" class=\"dataframe\">\n",
       "  <thead>\n",
       "    <tr style=\"text-align: right;\">\n",
       "      <th></th>\n",
       "      <th>repo</th>\n",
       "      <th>language</th>\n",
       "      <th>readme_contents</th>\n",
       "    </tr>\n",
       "  </thead>\n",
       "  <tbody>\n",
       "    <tr>\n",
       "      <th>0</th>\n",
       "      <td>TheAlgorithms/Python</td>\n",
       "      <td>Python</td>\n",
       "      <td>&lt;div align=\"center\"&gt;\\n&lt;!-- Title: --&gt;\\n  &lt;a hr...</td>\n",
       "    </tr>\n",
       "    <tr>\n",
       "      <th>1</th>\n",
       "      <td>apache/flink</td>\n",
       "      <td>Java</td>\n",
       "      <td># Apache Flink\\n\\nApache Flink is an open sour...</td>\n",
       "    </tr>\n",
       "    <tr>\n",
       "      <th>2</th>\n",
       "      <td>forezp/SpringCloudLearning</td>\n",
       "      <td>Java</td>\n",
       "      <td>&gt;转载请标明出处： \\n&gt; http://blog.csdn.net/forezp/arti...</td>\n",
       "    </tr>\n",
       "    <tr>\n",
       "      <th>3</th>\n",
       "      <td>learn-co-students/python-dictionaries-readme-d...</td>\n",
       "      <td>Jupyter Notebook</td>\n",
       "      <td>\\n# Dictionaries \\n\\n### Introduction\\n\\nAfter...</td>\n",
       "    </tr>\n",
       "    <tr>\n",
       "      <th>4</th>\n",
       "      <td>angular/angular-phonecat</td>\n",
       "      <td>JavaScript</td>\n",
       "      <td># AngularJS Phone Catalog Tutorial Application...</td>\n",
       "    </tr>\n",
       "    <tr>\n",
       "      <th>...</th>\n",
       "      <td>...</td>\n",
       "      <td>...</td>\n",
       "      <td>...</td>\n",
       "    </tr>\n",
       "    <tr>\n",
       "      <th>113</th>\n",
       "      <td>learn-co-students/javascript-arrays-lab-bootca...</td>\n",
       "      <td>JavaScript</td>\n",
       "      <td>{\"payload\":{\"allShortcutsEnabled\":false,\"fileT...</td>\n",
       "    </tr>\n",
       "    <tr>\n",
       "      <th>114</th>\n",
       "      <td>tastejs/todomvc</td>\n",
       "      <td>JavaScript</td>\n",
       "      <td>\\n\\n\\n\\n\\n\\n&lt;!DOCTYPE html&gt;\\n&lt;html lang=\"en\" d...</td>\n",
       "    </tr>\n",
       "    <tr>\n",
       "      <th>115</th>\n",
       "      <td>learn-co-students/jupyter-notebook-introductio...</td>\n",
       "      <td>Jupyter Notebook</td>\n",
       "      <td>{\"payload\":{\"allShortcutsEnabled\":false,\"fileT...</td>\n",
       "    </tr>\n",
       "    <tr>\n",
       "      <th>116</th>\n",
       "      <td>hasura-imad/imad-2016-app</td>\n",
       "      <td>JavaScript</td>\n",
       "      <td>\\n\\n\\n\\n\\n\\n&lt;!DOCTYPE html&gt;\\n&lt;html lang=\"en\" d...</td>\n",
       "    </tr>\n",
       "    <tr>\n",
       "      <th>117</th>\n",
       "      <td>josephmisiti/awesome-machine-learning</td>\n",
       "      <td>Python</td>\n",
       "      <td>{\"payload\":{\"allShortcutsEnabled\":false,\"fileT...</td>\n",
       "    </tr>\n",
       "  </tbody>\n",
       "</table>\n",
       "<p>118 rows × 3 columns</p>\n",
       "</div>"
      ],
      "text/plain": [
       "                                                  repo          language  \\\n",
       "0                                 TheAlgorithms/Python            Python   \n",
       "1                                         apache/flink              Java   \n",
       "2                           forezp/SpringCloudLearning              Java   \n",
       "3    learn-co-students/python-dictionaries-readme-d...  Jupyter Notebook   \n",
       "4                             angular/angular-phonecat        JavaScript   \n",
       "..                                                 ...               ...   \n",
       "113  learn-co-students/javascript-arrays-lab-bootca...        JavaScript   \n",
       "114                                    tastejs/todomvc        JavaScript   \n",
       "115  learn-co-students/jupyter-notebook-introductio...  Jupyter Notebook   \n",
       "116                          hasura-imad/imad-2016-app        JavaScript   \n",
       "117              josephmisiti/awesome-machine-learning            Python   \n",
       "\n",
       "                                       readme_contents  \n",
       "0    <div align=\"center\">\\n<!-- Title: -->\\n  <a hr...  \n",
       "1    # Apache Flink\\n\\nApache Flink is an open sour...  \n",
       "2    >转载请标明出处： \\n> http://blog.csdn.net/forezp/arti...  \n",
       "3    \\n# Dictionaries \\n\\n### Introduction\\n\\nAfter...  \n",
       "4    # AngularJS Phone Catalog Tutorial Application...  \n",
       "..                                                 ...  \n",
       "113  {\"payload\":{\"allShortcutsEnabled\":false,\"fileT...  \n",
       "114  \\n\\n\\n\\n\\n\\n<!DOCTYPE html>\\n<html lang=\"en\" d...  \n",
       "115  {\"payload\":{\"allShortcutsEnabled\":false,\"fileT...  \n",
       "116  \\n\\n\\n\\n\\n\\n<!DOCTYPE html>\\n<html lang=\"en\" d...  \n",
       "117  {\"payload\":{\"allShortcutsEnabled\":false,\"fileT...  \n",
       "\n",
       "[118 rows x 3 columns]"
      ]
     },
     "execution_count": 4,
     "metadata": {},
     "output_type": "execute_result"
    }
   ],
   "source": [
    "# Aquire data using methods described above.\n",
    "words_df = pd.read_json('data2.json')\n",
    "words_df\n",
    "\n"
   ]
  },
  {
   "cell_type": "code",
   "execution_count": 5,
   "id": "7e0a3696-05ac-41fa-ad23-56bea38274dd",
   "metadata": {},
   "outputs": [
    {
     "data": {
      "text/plain": [
       "Index(['repo', 'language', 'readme_contents'], dtype='object')"
      ]
     },
     "execution_count": 5,
     "metadata": {},
     "output_type": "execute_result"
    }
   ],
   "source": [
    "# Dataset columns\n",
    "words_df.columns"
   ]
  },
  {
   "cell_type": "code",
   "execution_count": 6,
   "id": "038c155b-5aa1-499c-94fa-9425652830ca",
   "metadata": {},
   "outputs": [
    {
     "data": {
      "text/plain": [
       "JavaScript          31\n",
       "Python              15\n",
       "Java                11\n",
       "HTML                 7\n",
       "C                    6\n",
       "Jupyter Notebook     5\n",
       "Shell                5\n",
       "Ruby                 4\n",
       "C++                  3\n",
       "CSS                  3\n",
       "Go                   3\n",
       "TypeScript           3\n",
       "SCSS                 2\n",
       "PowerShell           1\n",
       "Kotlin               1\n",
       "Bicep                1\n",
       "HCL                  1\n",
       "Vim script           1\n",
       "Objective-C          1\n",
       "Vue                  1\n",
       "Name: language, dtype: int64"
      ]
     },
     "execution_count": 6,
     "metadata": {},
     "output_type": "execute_result"
    }
   ],
   "source": [
    "words_df.language.value_counts()"
   ]
  },
  {
   "cell_type": "code",
   "execution_count": 7,
   "id": "ca720ffd-114f-40cf-99ff-87167a8ef133",
   "metadata": {},
   "outputs": [
    {
     "data": {
      "text/html": [
       "<div>\n",
       "<style scoped>\n",
       "    .dataframe tbody tr th:only-of-type {\n",
       "        vertical-align: middle;\n",
       "    }\n",
       "\n",
       "    .dataframe tbody tr th {\n",
       "        vertical-align: top;\n",
       "    }\n",
       "\n",
       "    .dataframe thead th {\n",
       "        text-align: right;\n",
       "    }\n",
       "</style>\n",
       "<table border=\"1\" class=\"dataframe\">\n",
       "  <thead>\n",
       "    <tr style=\"text-align: right;\">\n",
       "      <th></th>\n",
       "      <th>0</th>\n",
       "      <th>1</th>\n",
       "      <th>2</th>\n",
       "      <th>3</th>\n",
       "      <th>4</th>\n",
       "    </tr>\n",
       "  </thead>\n",
       "  <tbody>\n",
       "    <tr>\n",
       "      <th>repo</th>\n",
       "      <td>TheAlgorithms/Python</td>\n",
       "      <td>apache/flink</td>\n",
       "      <td>forezp/SpringCloudLearning</td>\n",
       "      <td>learn-co-students/python-dictionaries-readme-d...</td>\n",
       "      <td>angular/angular-phonecat</td>\n",
       "    </tr>\n",
       "    <tr>\n",
       "      <th>language</th>\n",
       "      <td>Python</td>\n",
       "      <td>Java</td>\n",
       "      <td>Java</td>\n",
       "      <td>Jupyter Notebook</td>\n",
       "      <td>JavaScript</td>\n",
       "    </tr>\n",
       "    <tr>\n",
       "      <th>readme_contents</th>\n",
       "      <td>&lt;div align=\"center\"&gt;\\n&lt;!-- Title: --&gt;\\n  &lt;a hr...</td>\n",
       "      <td># Apache Flink\\n\\nApache Flink is an open sour...</td>\n",
       "      <td>&gt;转载请标明出处： \\n&gt; http://blog.csdn.net/forezp/arti...</td>\n",
       "      <td>\\n# Dictionaries \\n\\n### Introduction\\n\\nAfter...</td>\n",
       "      <td># AngularJS Phone Catalog Tutorial Application...</td>\n",
       "    </tr>\n",
       "  </tbody>\n",
       "</table>\n",
       "</div>"
      ],
      "text/plain": [
       "                                                                 0  \\\n",
       "repo                                          TheAlgorithms/Python   \n",
       "language                                                    Python   \n",
       "readme_contents  <div align=\"center\">\\n<!-- Title: -->\\n  <a hr...   \n",
       "\n",
       "                                                                 1  \\\n",
       "repo                                                  apache/flink   \n",
       "language                                                      Java   \n",
       "readme_contents  # Apache Flink\\n\\nApache Flink is an open sour...   \n",
       "\n",
       "                                                                 2  \\\n",
       "repo                                    forezp/SpringCloudLearning   \n",
       "language                                                      Java   \n",
       "readme_contents  >转载请标明出处： \\n> http://blog.csdn.net/forezp/arti...   \n",
       "\n",
       "                                                                 3  \\\n",
       "repo             learn-co-students/python-dictionaries-readme-d...   \n",
       "language                                          Jupyter Notebook   \n",
       "readme_contents  \\n# Dictionaries \\n\\n### Introduction\\n\\nAfter...   \n",
       "\n",
       "                                                                 4  \n",
       "repo                                      angular/angular-phonecat  \n",
       "language                                                JavaScript  \n",
       "readme_contents  # AngularJS Phone Catalog Tutorial Application...  "
      ]
     },
     "execution_count": 7,
     "metadata": {},
     "output_type": "execute_result"
    }
   ],
   "source": [
    "# To inspect the first few rows of the DataFrame, you can use the head functiotelco.head()\n",
    "words_df.head().T\n"
   ]
  },
  {
   "cell_type": "code",
   "execution_count": 8,
   "id": "e7387a25-e13a-480e-8264-64f5a3cf0537",
   "metadata": {},
   "outputs": [
    {
     "data": {
      "text/plain": [
       "0"
      ]
     },
     "execution_count": 8,
     "metadata": {},
     "output_type": "execute_result"
    }
   ],
   "source": [
    "# Check for total of duplicates in data set \n",
    "words_df.duplicated().sum()"
   ]
  },
  {
   "cell_type": "code",
   "execution_count": 9,
   "id": "716d80ad-c32b-4788-a6c2-cfd8208ca203",
   "metadata": {},
   "outputs": [
    {
     "name": "stdout",
     "output_type": "stream",
     "text": [
      "<class 'pandas.core.frame.DataFrame'>\n",
      "RangeIndex: 118 entries, 0 to 117\n",
      "Data columns (total 3 columns):\n",
      " #   Column           Non-Null Count  Dtype \n",
      "---  ------           --------------  ----- \n",
      " 0   repo             118 non-null    object\n",
      " 1   language         105 non-null    object\n",
      " 2   readme_contents  118 non-null    object\n",
      "dtypes: object(3)\n",
      "memory usage: 2.9+ KB\n"
     ]
    }
   ],
   "source": [
    "# column datatypes and missign values\n",
    "words_df.info()"
   ]
  },
  {
   "cell_type": "code",
   "execution_count": 10,
   "id": "0461087e-a89a-40bf-927f-2bf05cc1b954",
   "metadata": {},
   "outputs": [
    {
     "data": {
      "text/html": [
       "<div>\n",
       "<style scoped>\n",
       "    .dataframe tbody tr th:only-of-type {\n",
       "        vertical-align: middle;\n",
       "    }\n",
       "\n",
       "    .dataframe tbody tr th {\n",
       "        vertical-align: top;\n",
       "    }\n",
       "\n",
       "    .dataframe thead th {\n",
       "        text-align: right;\n",
       "    }\n",
       "</style>\n",
       "<table border=\"1\" class=\"dataframe\">\n",
       "  <thead>\n",
       "    <tr style=\"text-align: right;\">\n",
       "      <th></th>\n",
       "      <th>repo</th>\n",
       "      <th>language</th>\n",
       "      <th>readme_contents</th>\n",
       "    </tr>\n",
       "  </thead>\n",
       "  <tbody>\n",
       "    <tr>\n",
       "      <th>count</th>\n",
       "      <td>118</td>\n",
       "      <td>105</td>\n",
       "      <td>118</td>\n",
       "    </tr>\n",
       "    <tr>\n",
       "      <th>unique</th>\n",
       "      <td>118</td>\n",
       "      <td>20</td>\n",
       "      <td>118</td>\n",
       "    </tr>\n",
       "    <tr>\n",
       "      <th>top</th>\n",
       "      <td>TheAlgorithms/Python</td>\n",
       "      <td>JavaScript</td>\n",
       "      <td>&lt;div align=\"center\"&gt;\\n&lt;!-- Title: --&gt;\\n  &lt;a hr...</td>\n",
       "    </tr>\n",
       "    <tr>\n",
       "      <th>freq</th>\n",
       "      <td>1</td>\n",
       "      <td>31</td>\n",
       "      <td>1</td>\n",
       "    </tr>\n",
       "  </tbody>\n",
       "</table>\n",
       "</div>"
      ],
      "text/plain": [
       "                        repo    language  \\\n",
       "count                    118         105   \n",
       "unique                   118          20   \n",
       "top     TheAlgorithms/Python  JavaScript   \n",
       "freq                       1          31   \n",
       "\n",
       "                                          readme_contents  \n",
       "count                                                 118  \n",
       "unique                                                118  \n",
       "top     <div align=\"center\">\\n<!-- Title: -->\\n  <a hr...  \n",
       "freq                                                    1  "
      ]
     },
     "execution_count": 10,
     "metadata": {},
     "output_type": "execute_result"
    }
   ],
   "source": [
    "# observed numerical values\n",
    "words_df.describe()\n"
   ]
  },
  {
   "cell_type": "code",
   "execution_count": 11,
   "id": "c05782dd-6e11-47d1-b0ca-96c21c7a4967",
   "metadata": {},
   "outputs": [
    {
     "data": {
      "text/plain": [
       "(118, 3)"
      ]
     },
     "execution_count": 11,
     "metadata": {},
     "output_type": "execute_result"
    }
   ],
   "source": [
    "words_df.shape\n"
   ]
  },
  {
   "cell_type": "code",
   "execution_count": 12,
   "id": "6500e499-c504-4067-ac84-b2af1b57a9bd",
   "metadata": {},
   "outputs": [
    {
     "data": {
      "text/html": [
       "<div>\n",
       "<style scoped>\n",
       "    .dataframe tbody tr th:only-of-type {\n",
       "        vertical-align: middle;\n",
       "    }\n",
       "\n",
       "    .dataframe tbody tr th {\n",
       "        vertical-align: top;\n",
       "    }\n",
       "\n",
       "    .dataframe thead th {\n",
       "        text-align: right;\n",
       "    }\n",
       "</style>\n",
       "<table border=\"1\" class=\"dataframe\">\n",
       "  <thead>\n",
       "    <tr style=\"text-align: right;\">\n",
       "      <th></th>\n",
       "      <th>repo</th>\n",
       "      <th>language</th>\n",
       "      <th>readme_contents</th>\n",
       "    </tr>\n",
       "  </thead>\n",
       "  <tbody>\n",
       "    <tr>\n",
       "      <th>0</th>\n",
       "      <td>False</td>\n",
       "      <td>False</td>\n",
       "      <td>False</td>\n",
       "    </tr>\n",
       "    <tr>\n",
       "      <th>1</th>\n",
       "      <td>False</td>\n",
       "      <td>False</td>\n",
       "      <td>False</td>\n",
       "    </tr>\n",
       "    <tr>\n",
       "      <th>2</th>\n",
       "      <td>False</td>\n",
       "      <td>False</td>\n",
       "      <td>False</td>\n",
       "    </tr>\n",
       "    <tr>\n",
       "      <th>3</th>\n",
       "      <td>False</td>\n",
       "      <td>False</td>\n",
       "      <td>False</td>\n",
       "    </tr>\n",
       "    <tr>\n",
       "      <th>4</th>\n",
       "      <td>False</td>\n",
       "      <td>False</td>\n",
       "      <td>False</td>\n",
       "    </tr>\n",
       "    <tr>\n",
       "      <th>...</th>\n",
       "      <td>...</td>\n",
       "      <td>...</td>\n",
       "      <td>...</td>\n",
       "    </tr>\n",
       "    <tr>\n",
       "      <th>113</th>\n",
       "      <td>False</td>\n",
       "      <td>False</td>\n",
       "      <td>False</td>\n",
       "    </tr>\n",
       "    <tr>\n",
       "      <th>114</th>\n",
       "      <td>False</td>\n",
       "      <td>False</td>\n",
       "      <td>False</td>\n",
       "    </tr>\n",
       "    <tr>\n",
       "      <th>115</th>\n",
       "      <td>False</td>\n",
       "      <td>False</td>\n",
       "      <td>False</td>\n",
       "    </tr>\n",
       "    <tr>\n",
       "      <th>116</th>\n",
       "      <td>False</td>\n",
       "      <td>False</td>\n",
       "      <td>False</td>\n",
       "    </tr>\n",
       "    <tr>\n",
       "      <th>117</th>\n",
       "      <td>False</td>\n",
       "      <td>False</td>\n",
       "      <td>False</td>\n",
       "    </tr>\n",
       "  </tbody>\n",
       "</table>\n",
       "<p>118 rows × 3 columns</p>\n",
       "</div>"
      ],
      "text/plain": [
       "      repo  language  readme_contents\n",
       "0    False     False            False\n",
       "1    False     False            False\n",
       "2    False     False            False\n",
       "3    False     False            False\n",
       "4    False     False            False\n",
       "..     ...       ...              ...\n",
       "113  False     False            False\n",
       "114  False     False            False\n",
       "115  False     False            False\n",
       "116  False     False            False\n",
       "117  False     False            False\n",
       "\n",
       "[118 rows x 3 columns]"
      ]
     },
     "execution_count": 12,
     "metadata": {},
     "output_type": "execute_result"
    }
   ],
   "source": [
    "# Check for missing values\n",
    "missing_values = words_df.isnull()\n",
    "missing_values\n"
   ]
  },
  {
   "cell_type": "code",
   "execution_count": 13,
   "id": "fd16933e-56b0-43c6-bdde-ac131e3389fe",
   "metadata": {},
   "outputs": [
    {
     "data": {
      "text/plain": [
       "repo                0\n",
       "language           13\n",
       "readme_contents     0\n",
       "dtype: int64"
      ]
     },
     "execution_count": 13,
     "metadata": {},
     "output_type": "execute_result"
    }
   ],
   "source": [
    "words_df.isnull().sum()\n"
   ]
  },
  {
   "cell_type": "code",
   "execution_count": 14,
   "id": "3c77392e-0ca8-47c0-a015-a38a74cc04aa",
   "metadata": {},
   "outputs": [
    {
     "data": {
      "text/html": [
       "<div>\n",
       "<style scoped>\n",
       "    .dataframe tbody tr th:only-of-type {\n",
       "        vertical-align: middle;\n",
       "    }\n",
       "\n",
       "    .dataframe tbody tr th {\n",
       "        vertical-align: top;\n",
       "    }\n",
       "\n",
       "    .dataframe thead th {\n",
       "        text-align: right;\n",
       "    }\n",
       "</style>\n",
       "<table border=\"1\" class=\"dataframe\">\n",
       "  <thead>\n",
       "    <tr style=\"text-align: right;\">\n",
       "      <th></th>\n",
       "      <th>repo</th>\n",
       "      <th>language</th>\n",
       "      <th>readme_contents</th>\n",
       "    </tr>\n",
       "  </thead>\n",
       "  <tbody>\n",
       "    <tr>\n",
       "      <th>0</th>\n",
       "      <td>TheAlgorithms/Python</td>\n",
       "      <td>Python</td>\n",
       "      <td>&lt;div align=\"center\"&gt;\\n&lt;!-- Title: --&gt;\\n  &lt;a hr...</td>\n",
       "    </tr>\n",
       "    <tr>\n",
       "      <th>1</th>\n",
       "      <td>apache/flink</td>\n",
       "      <td>Java</td>\n",
       "      <td># Apache Flink\\n\\nApache Flink is an open sour...</td>\n",
       "    </tr>\n",
       "    <tr>\n",
       "      <th>2</th>\n",
       "      <td>forezp/SpringCloudLearning</td>\n",
       "      <td>Java</td>\n",
       "      <td>&gt;转载请标明出处： \\n&gt; http://blog.csdn.net/forezp/arti...</td>\n",
       "    </tr>\n",
       "    <tr>\n",
       "      <th>3</th>\n",
       "      <td>learn-co-students/python-dictionaries-readme-d...</td>\n",
       "      <td>Jupyter Notebook</td>\n",
       "      <td>\\n# Dictionaries \\n\\n### Introduction\\n\\nAfter...</td>\n",
       "    </tr>\n",
       "    <tr>\n",
       "      <th>4</th>\n",
       "      <td>angular/angular-phonecat</td>\n",
       "      <td>JavaScript</td>\n",
       "      <td># AngularJS Phone Catalog Tutorial Application...</td>\n",
       "    </tr>\n",
       "    <tr>\n",
       "      <th>...</th>\n",
       "      <td>...</td>\n",
       "      <td>...</td>\n",
       "      <td>...</td>\n",
       "    </tr>\n",
       "    <tr>\n",
       "      <th>113</th>\n",
       "      <td>learn-co-students/javascript-arrays-lab-bootca...</td>\n",
       "      <td>JavaScript</td>\n",
       "      <td>{\"payload\":{\"allShortcutsEnabled\":false,\"fileT...</td>\n",
       "    </tr>\n",
       "    <tr>\n",
       "      <th>114</th>\n",
       "      <td>tastejs/todomvc</td>\n",
       "      <td>JavaScript</td>\n",
       "      <td>\\n\\n\\n\\n\\n\\n&lt;!DOCTYPE html&gt;\\n&lt;html lang=\"en\" d...</td>\n",
       "    </tr>\n",
       "    <tr>\n",
       "      <th>115</th>\n",
       "      <td>learn-co-students/jupyter-notebook-introductio...</td>\n",
       "      <td>Jupyter Notebook</td>\n",
       "      <td>{\"payload\":{\"allShortcutsEnabled\":false,\"fileT...</td>\n",
       "    </tr>\n",
       "    <tr>\n",
       "      <th>116</th>\n",
       "      <td>hasura-imad/imad-2016-app</td>\n",
       "      <td>JavaScript</td>\n",
       "      <td>\\n\\n\\n\\n\\n\\n&lt;!DOCTYPE html&gt;\\n&lt;html lang=\"en\" d...</td>\n",
       "    </tr>\n",
       "    <tr>\n",
       "      <th>117</th>\n",
       "      <td>josephmisiti/awesome-machine-learning</td>\n",
       "      <td>Python</td>\n",
       "      <td>{\"payload\":{\"allShortcutsEnabled\":false,\"fileT...</td>\n",
       "    </tr>\n",
       "  </tbody>\n",
       "</table>\n",
       "<p>105 rows × 3 columns</p>\n",
       "</div>"
      ],
      "text/plain": [
       "                                                  repo          language  \\\n",
       "0                                 TheAlgorithms/Python            Python   \n",
       "1                                         apache/flink              Java   \n",
       "2                           forezp/SpringCloudLearning              Java   \n",
       "3    learn-co-students/python-dictionaries-readme-d...  Jupyter Notebook   \n",
       "4                             angular/angular-phonecat        JavaScript   \n",
       "..                                                 ...               ...   \n",
       "113  learn-co-students/javascript-arrays-lab-bootca...        JavaScript   \n",
       "114                                    tastejs/todomvc        JavaScript   \n",
       "115  learn-co-students/jupyter-notebook-introductio...  Jupyter Notebook   \n",
       "116                          hasura-imad/imad-2016-app        JavaScript   \n",
       "117              josephmisiti/awesome-machine-learning            Python   \n",
       "\n",
       "                                       readme_contents  \n",
       "0    <div align=\"center\">\\n<!-- Title: -->\\n  <a hr...  \n",
       "1    # Apache Flink\\n\\nApache Flink is an open sour...  \n",
       "2    >转载请标明出处： \\n> http://blog.csdn.net/forezp/arti...  \n",
       "3    \\n# Dictionaries \\n\\n### Introduction\\n\\nAfter...  \n",
       "4    # AngularJS Phone Catalog Tutorial Application...  \n",
       "..                                                 ...  \n",
       "113  {\"payload\":{\"allShortcutsEnabled\":false,\"fileT...  \n",
       "114  \\n\\n\\n\\n\\n\\n<!DOCTYPE html>\\n<html lang=\"en\" d...  \n",
       "115  {\"payload\":{\"allShortcutsEnabled\":false,\"fileT...  \n",
       "116  \\n\\n\\n\\n\\n\\n<!DOCTYPE html>\\n<html lang=\"en\" d...  \n",
       "117  {\"payload\":{\"allShortcutsEnabled\":false,\"fileT...  \n",
       "\n",
       "[105 rows x 3 columns]"
      ]
     },
     "execution_count": 14,
     "metadata": {},
     "output_type": "execute_result"
    }
   ],
   "source": [
    "# Drop rows with any missing values\n",
    "words_df_dropped = words_df.dropna()\n",
    "words_df_dropped\n"
   ]
  },
  {
   "cell_type": "code",
   "execution_count": 15,
   "id": "7daa5ab7-035c-436b-a3af-a61f2efd0da0",
   "metadata": {},
   "outputs": [
    {
     "data": {
      "text/html": [
       "<div>\n",
       "<style scoped>\n",
       "    .dataframe tbody tr th:only-of-type {\n",
       "        vertical-align: middle;\n",
       "    }\n",
       "\n",
       "    .dataframe tbody tr th {\n",
       "        vertical-align: top;\n",
       "    }\n",
       "\n",
       "    .dataframe thead th {\n",
       "        text-align: right;\n",
       "    }\n",
       "</style>\n",
       "<table border=\"1\" class=\"dataframe\">\n",
       "  <thead>\n",
       "    <tr style=\"text-align: right;\">\n",
       "      <th></th>\n",
       "      <th>repo</th>\n",
       "      <th>language</th>\n",
       "      <th>readme_contents</th>\n",
       "    </tr>\n",
       "  </thead>\n",
       "  <tbody>\n",
       "    <tr>\n",
       "      <th>9</th>\n",
       "      <td>vivienzou1/DL-Notes-for-interview</td>\n",
       "      <td>None</td>\n",
       "      <td>{\"payload\":{\"allShortcutsEnabled\":false,\"fileT...</td>\n",
       "    </tr>\n",
       "    <tr>\n",
       "      <th>11</th>\n",
       "      <td>jtleek/datasharing</td>\n",
       "      <td>None</td>\n",
       "      <td>{\"payload\":{\"allShortcutsEnabled\":false,\"fileT...</td>\n",
       "    </tr>\n",
       "    <tr>\n",
       "      <th>13</th>\n",
       "      <td>freefq/free</td>\n",
       "      <td>None</td>\n",
       "      <td>{\"payload\":{\"allShortcutsEnabled\":false,\"fileT...</td>\n",
       "    </tr>\n",
       "    <tr>\n",
       "      <th>17</th>\n",
       "      <td>996icu/996.ICU</td>\n",
       "      <td>None</td>\n",
       "      <td>{\"payload\":{\"allShortcutsEnabled\":false,\"fileT...</td>\n",
       "    </tr>\n",
       "    <tr>\n",
       "      <th>26</th>\n",
       "      <td>luchihoratiu/debug-via-ssh</td>\n",
       "      <td>None</td>\n",
       "      <td>{\"payload\":{\"allShortcutsEnabled\":false,\"fileT...</td>\n",
       "    </tr>\n",
       "    <tr>\n",
       "      <th>29</th>\n",
       "      <td>mqyqingfeng/Blog</td>\n",
       "      <td>None</td>\n",
       "      <td>{\"payload\":{\"allShortcutsEnabled\":false,\"fileT...</td>\n",
       "    </tr>\n",
       "    <tr>\n",
       "      <th>40</th>\n",
       "      <td>xitu/gold-miner</td>\n",
       "      <td>None</td>\n",
       "      <td>{\"payload\":{\"allShortcutsEnabled\":false,\"fileT...</td>\n",
       "    </tr>\n",
       "    <tr>\n",
       "      <th>41</th>\n",
       "      <td>xingshaocheng/architect-awesome</td>\n",
       "      <td>None</td>\n",
       "      <td>{\"payload\":{\"allShortcutsEnabled\":false,\"fileT...</td>\n",
       "    </tr>\n",
       "    <tr>\n",
       "      <th>54</th>\n",
       "      <td>dcxy/learngit</td>\n",
       "      <td>None</td>\n",
       "      <td>\\n\\n\\n\\n\\n\\n&lt;!DOCTYPE html&gt;\\n&lt;html lang=\"en\" d...</td>\n",
       "    </tr>\n",
       "    <tr>\n",
       "      <th>68</th>\n",
       "      <td>bloominstituteoftechnology/module-challenge-in...</td>\n",
       "      <td>None</td>\n",
       "      <td>{\"payload\":{\"allShortcutsEnabled\":false,\"fileT...</td>\n",
       "    </tr>\n",
       "    <tr>\n",
       "      <th>73</th>\n",
       "      <td>othneildrew/Best-README-Template</td>\n",
       "      <td>None</td>\n",
       "      <td>{\"payload\":{\"allShortcutsEnabled\":false,\"fileT...</td>\n",
       "    </tr>\n",
       "    <tr>\n",
       "      <th>84</th>\n",
       "      <td>bloominstituteoftechnology/team-builder</td>\n",
       "      <td>None</td>\n",
       "      <td>{\"payload\":{\"allShortcutsEnabled\":false,\"fileT...</td>\n",
       "    </tr>\n",
       "    <tr>\n",
       "      <th>90</th>\n",
       "      <td>amjuarez/bytecoin</td>\n",
       "      <td>None</td>\n",
       "      <td>\\n\\n\\n\\n\\n\\n&lt;!DOCTYPE html&gt;\\n&lt;html lang=\"en\" d...</td>\n",
       "    </tr>\n",
       "  </tbody>\n",
       "</table>\n",
       "</div>"
      ],
      "text/plain": [
       "                                                 repo language  \\\n",
       "9                   vivienzou1/DL-Notes-for-interview     None   \n",
       "11                                 jtleek/datasharing     None   \n",
       "13                                        freefq/free     None   \n",
       "17                                     996icu/996.ICU     None   \n",
       "26                         luchihoratiu/debug-via-ssh     None   \n",
       "29                                   mqyqingfeng/Blog     None   \n",
       "40                                    xitu/gold-miner     None   \n",
       "41                    xingshaocheng/architect-awesome     None   \n",
       "54                                      dcxy/learngit     None   \n",
       "68  bloominstituteoftechnology/module-challenge-in...     None   \n",
       "73                   othneildrew/Best-README-Template     None   \n",
       "84            bloominstituteoftechnology/team-builder     None   \n",
       "90                                  amjuarez/bytecoin     None   \n",
       "\n",
       "                                      readme_contents  \n",
       "9   {\"payload\":{\"allShortcutsEnabled\":false,\"fileT...  \n",
       "11  {\"payload\":{\"allShortcutsEnabled\":false,\"fileT...  \n",
       "13  {\"payload\":{\"allShortcutsEnabled\":false,\"fileT...  \n",
       "17  {\"payload\":{\"allShortcutsEnabled\":false,\"fileT...  \n",
       "26  {\"payload\":{\"allShortcutsEnabled\":false,\"fileT...  \n",
       "29  {\"payload\":{\"allShortcutsEnabled\":false,\"fileT...  \n",
       "40  {\"payload\":{\"allShortcutsEnabled\":false,\"fileT...  \n",
       "41  {\"payload\":{\"allShortcutsEnabled\":false,\"fileT...  \n",
       "54  \\n\\n\\n\\n\\n\\n<!DOCTYPE html>\\n<html lang=\"en\" d...  \n",
       "68  {\"payload\":{\"allShortcutsEnabled\":false,\"fileT...  \n",
       "73  {\"payload\":{\"allShortcutsEnabled\":false,\"fileT...  \n",
       "84  {\"payload\":{\"allShortcutsEnabled\":false,\"fileT...  \n",
       "90  \\n\\n\\n\\n\\n\\n<!DOCTYPE html>\\n<html lang=\"en\" d...  "
      ]
     },
     "execution_count": 15,
     "metadata": {},
     "output_type": "execute_result"
    }
   ],
   "source": [
    "rows_with_missing_language = words_df[words_df['language'].isnull()]\n",
    "\n",
    "# Change data types of the isolated rows to 'object'\n",
    "rows_with_missing_language = rows_with_missing_language.astype({'language': 'object'})\n",
    "\n",
    "# Display the modified isolated rows\n",
    "rows_with_missing_language\n"
   ]
  },
  {
   "cell_type": "code",
   "execution_count": 16,
   "id": "1ba49866-627f-42c2-8fc5-f6159846d8a6",
   "metadata": {},
   "outputs": [
    {
     "name": "stdout",
     "output_type": "stream",
     "text": [
      "<class 'pandas.core.frame.DataFrame'>\n",
      "RangeIndex: 118 entries, 0 to 117\n",
      "Data columns (total 3 columns):\n",
      " #   Column           Non-Null Count  Dtype \n",
      "---  ------           --------------  ----- \n",
      " 0   repo             118 non-null    object\n",
      " 1   language         105 non-null    object\n",
      " 2   readme_contents  118 non-null    object\n",
      "dtypes: object(3)\n",
      "memory usage: 2.9+ KB\n"
     ]
    }
   ],
   "source": [
    "# column datatypes \n",
    "words_df.info()"
   ]
  },
  {
   "cell_type": "code",
   "execution_count": 17,
   "id": "3fd15ee8-cb7d-4e46-9316-c26734c6da72",
   "metadata": {},
   "outputs": [],
   "source": [
    "# Replace null values in the 'language' column with \"Other\"\n",
    "words_df['language'].fillna(\"Other\", inplace=True)"
   ]
  },
  {
   "cell_type": "code",
   "execution_count": 18,
   "id": "6ffcdcce-e703-4ad0-bf69-b92a289a0d59",
   "metadata": {},
   "outputs": [
    {
     "name": "stdout",
     "output_type": "stream",
     "text": [
      "<class 'pandas.core.frame.DataFrame'>\n",
      "RangeIndex: 118 entries, 0 to 117\n",
      "Data columns (total 3 columns):\n",
      " #   Column           Non-Null Count  Dtype \n",
      "---  ------           --------------  ----- \n",
      " 0   repo             118 non-null    object\n",
      " 1   language         118 non-null    object\n",
      " 2   readme_contents  118 non-null    object\n",
      "dtypes: object(3)\n",
      "memory usage: 2.9+ KB\n"
     ]
    }
   ],
   "source": [
    "#column datatypes \n",
    "words_df.info()"
   ]
  },
  {
   "cell_type": "code",
   "execution_count": 25,
   "id": "5da8ac6a-8ac0-4ce5-9e16-780221028a62",
   "metadata": {},
   "outputs": [
    {
     "data": {
      "text/html": [
       "<div>\n",
       "<style scoped>\n",
       "    .dataframe tbody tr th:only-of-type {\n",
       "        vertical-align: middle;\n",
       "    }\n",
       "\n",
       "    .dataframe tbody tr th {\n",
       "        vertical-align: top;\n",
       "    }\n",
       "\n",
       "    .dataframe thead th {\n",
       "        text-align: right;\n",
       "    }\n",
       "</style>\n",
       "<table border=\"1\" class=\"dataframe\">\n",
       "  <thead>\n",
       "    <tr style=\"text-align: right;\">\n",
       "      <th></th>\n",
       "      <th>repo</th>\n",
       "      <th>language</th>\n",
       "      <th>readme_contents</th>\n",
       "    </tr>\n",
       "  </thead>\n",
       "  <tbody>\n",
       "    <tr>\n",
       "      <th>0</th>\n",
       "      <td>TheAlgorithms/Python</td>\n",
       "      <td>Python</td>\n",
       "      <td>&lt;div align=\"center\"&gt;\\n&lt;!-- Title: --&gt;\\n  &lt;a hr...</td>\n",
       "    </tr>\n",
       "    <tr>\n",
       "      <th>1</th>\n",
       "      <td>apache/flink</td>\n",
       "      <td>Java</td>\n",
       "      <td># Apache Flink\\n\\nApache Flink is an open sour...</td>\n",
       "    </tr>\n",
       "    <tr>\n",
       "      <th>2</th>\n",
       "      <td>forezp/SpringCloudLearning</td>\n",
       "      <td>Java</td>\n",
       "      <td>&gt;转载请标明出处： \\n&gt; http://blog.csdn.net/forezp/arti...</td>\n",
       "    </tr>\n",
       "    <tr>\n",
       "      <th>3</th>\n",
       "      <td>learn-co-students/python-dictionaries-readme-d...</td>\n",
       "      <td>Jupyter Notebook</td>\n",
       "      <td>\\n# Dictionaries \\n\\n### Introduction\\n\\nAfter...</td>\n",
       "    </tr>\n",
       "    <tr>\n",
       "      <th>4</th>\n",
       "      <td>angular/angular-phonecat</td>\n",
       "      <td>JavaScript</td>\n",
       "      <td># AngularJS Phone Catalog Tutorial Application...</td>\n",
       "    </tr>\n",
       "    <tr>\n",
       "      <th>...</th>\n",
       "      <td>...</td>\n",
       "      <td>...</td>\n",
       "      <td>...</td>\n",
       "    </tr>\n",
       "    <tr>\n",
       "      <th>113</th>\n",
       "      <td>learn-co-students/javascript-arrays-lab-bootca...</td>\n",
       "      <td>JavaScript</td>\n",
       "      <td>{\"payload\":{\"allShortcutsEnabled\":false,\"fileT...</td>\n",
       "    </tr>\n",
       "    <tr>\n",
       "      <th>114</th>\n",
       "      <td>tastejs/todomvc</td>\n",
       "      <td>JavaScript</td>\n",
       "      <td>\\n\\n\\n\\n\\n\\n&lt;!DOCTYPE html&gt;\\n&lt;html lang=\"en\" d...</td>\n",
       "    </tr>\n",
       "    <tr>\n",
       "      <th>115</th>\n",
       "      <td>learn-co-students/jupyter-notebook-introductio...</td>\n",
       "      <td>Jupyter Notebook</td>\n",
       "      <td>{\"payload\":{\"allShortcutsEnabled\":false,\"fileT...</td>\n",
       "    </tr>\n",
       "    <tr>\n",
       "      <th>116</th>\n",
       "      <td>hasura-imad/imad-2016-app</td>\n",
       "      <td>JavaScript</td>\n",
       "      <td>\\n\\n\\n\\n\\n\\n&lt;!DOCTYPE html&gt;\\n&lt;html lang=\"en\" d...</td>\n",
       "    </tr>\n",
       "    <tr>\n",
       "      <th>117</th>\n",
       "      <td>josephmisiti/awesome-machine-learning</td>\n",
       "      <td>Python</td>\n",
       "      <td>{\"payload\":{\"allShortcutsEnabled\":false,\"fileT...</td>\n",
       "    </tr>\n",
       "  </tbody>\n",
       "</table>\n",
       "<p>118 rows × 3 columns</p>\n",
       "</div>"
      ],
      "text/plain": [
       "                                                  repo          language  \\\n",
       "0                                 TheAlgorithms/Python            Python   \n",
       "1                                         apache/flink              Java   \n",
       "2                           forezp/SpringCloudLearning              Java   \n",
       "3    learn-co-students/python-dictionaries-readme-d...  Jupyter Notebook   \n",
       "4                             angular/angular-phonecat        JavaScript   \n",
       "..                                                 ...               ...   \n",
       "113  learn-co-students/javascript-arrays-lab-bootca...        JavaScript   \n",
       "114                                    tastejs/todomvc        JavaScript   \n",
       "115  learn-co-students/jupyter-notebook-introductio...  Jupyter Notebook   \n",
       "116                          hasura-imad/imad-2016-app        JavaScript   \n",
       "117              josephmisiti/awesome-machine-learning            Python   \n",
       "\n",
       "                                       readme_contents  \n",
       "0    <div align=\"center\">\\n<!-- Title: -->\\n  <a hr...  \n",
       "1    # Apache Flink\\n\\nApache Flink is an open sour...  \n",
       "2    >转载请标明出处： \\n> http://blog.csdn.net/forezp/arti...  \n",
       "3    \\n# Dictionaries \\n\\n### Introduction\\n\\nAfter...  \n",
       "4    # AngularJS Phone Catalog Tutorial Application...  \n",
       "..                                                 ...  \n",
       "113  {\"payload\":{\"allShortcutsEnabled\":false,\"fileT...  \n",
       "114  \\n\\n\\n\\n\\n\\n<!DOCTYPE html>\\n<html lang=\"en\" d...  \n",
       "115  {\"payload\":{\"allShortcutsEnabled\":false,\"fileT...  \n",
       "116  \\n\\n\\n\\n\\n\\n<!DOCTYPE html>\\n<html lang=\"en\" d...  \n",
       "117  {\"payload\":{\"allShortcutsEnabled\":false,\"fileT...  \n",
       "\n",
       "[118 rows x 3 columns]"
      ]
     },
     "execution_count": 25,
     "metadata": {},
     "output_type": "execute_result"
    }
   ],
   "source": [
    "words_df"
   ]
  },
  {
   "cell_type": "markdown",
   "id": "de2a90fe-48e8-4f34-a912-35e70bece228",
   "metadata": {
    "tags": []
   },
   "source": [
    "# PREPARE\n",
    "\n",
    "### Data Cleaning:\n",
    "    \n",
    "- Drop unnecessary axis\n",
    "- Rename\n",
    "- Find nulls\n",
    "- Drop nulls\n",
    "- Check preperation\n",
    "- The data set has 4 columns and 1,470 rows\n",
    "- Each row represents individual employee numerical data\n",
    "- Each column is attributes of the employees"
   ]
  },
  {
   "cell_type": "markdown",
   "id": "e2c850d6-57cb-4029-ad98-3c03e41989c5",
   "metadata": {},
   "source": [
    "### TRAIN SPLIT"
   ]
  },
  {
   "cell_type": "markdown",
   "id": "cc09a80e-6539-4822-81d3-61404ab6b9b6",
   "metadata": {},
   "source": [
    "# EXPLORE"
   ]
  },
  {
   "cell_type": "code",
   "execution_count": null,
   "id": "3d28bca0-821b-4d55-a683-036f1e8a6b3a",
   "metadata": {},
   "outputs": [],
   "source": [
    "def tokenize(text):\n",
    "    \"\"\"\n",
    "    Tokenizes the words in the input string.\n",
    "    \"\"\"\n",
    "    tokenizer = ToktokTokenizer()\n",
    "    tokens = tokenizer.tokenize(text)\n",
    "    return tokens\n",
    "\n",
    "def clean(text: str) -> list: \n",
    "    \"\"\"\n",
    "    Cleans up the input text data.\n",
    "    \"\"\"\n",
    "    text = (text.encode('ascii', 'ignore')\n",
    "                .decode('utf-8', 'ignore')\n",
    "                .lower())\n",
    "    \n",
    "    words = re.sub(r'[^\\w\\s]', ' ', text).split()\n",
    "    wnl = nltk.stem.WordNetLemmatizer()\n",
    "    stopwords = set(nltk.corpus.stopwords.words('english'))\n",
    "    \n",
    "    return [wnl.lemmatize(word) for word in words if word not in stopwords]\n",
    "\n",
    "def nlp_wrangle():\n",
    "    \"\"\"\n",
    "    Performs data wrangling for natural language processing (NLP) tasks.\n",
    "    Returns a processed DataFrame for NLP analysis.\n",
    "    \"\"\"\n",
    "    # Load data from JSON file\n",
    "    df = pd.read_json('data2.json')\n",
    "    \n",
    "    # Tokenize and clean contents\n",
    "    df['clean_contents'] = df.readme_contents.apply(tokenize).apply(' '.join)\n",
    "    df['clean_contents'] = df.clean_contents.apply(clean).apply(' '.join)\n",
    "    \n",
    "     # Words to remove\n",
    "    words_to_remove = ['http', 'com', '124', 'www','github', 'top', 'go','107', '0','1','2','3','4', '5', '6', '7', '8','9', 'md','p', 'h1', 'h2', 'h3', 'h4', 'h5', 'h6', 'em', 'abbr', 'q','ins', 'del', 'dfn', 'kbd', 'pre', 'samp', 'var', 'br', 'div', 'a', 'img', 'param', 'ul','ol', 'li', 'dl', 'dt', 'dd']\n",
    "\n",
    "    # Remove specific words from clean_contents\n",
    "    for word in words_to_remove:\n",
    "        df['clean_contents'] = df['clean_contents'].str.replace(word, '')\n",
    "\n",
    "    # Add message_length and word_count columns\n",
    "    df['message_length'] = df['clean_contents'].str.len()\n",
    "    df['word_count'] = df.clean_contents.apply(clean).apply(len)\n",
    "\n",
    "    # Keep only top languages and assign others to 'Other'\n",
    "    languages_to_keep = ['JavaScript', 'Python', 'Java', 'TypeScript', 'HTML']\n",
    "    df['language'] = np.where(df['language'].isin(languages_to_keep), df['language'], 'Other')\n",
    "\n",
    "    # Filter DataFrame based on conditions\n",
    "    df = df.loc[(df['word_count'] <= 10000) & (df['message_length'] <= 60000)]\n",
    "\n",
    "    return df"
   ]
  },
  {
   "cell_type": "code",
   "execution_count": null,
   "id": "b6810427-1a54-4353-9ae3-7fc08f3e46a2",
   "metadata": {},
   "outputs": [],
   "source": [
    "a= set(range(0,118)) - set(list(words_df_w.index))\n",
    "# a = list(a)\n",
    "a"
   ]
  },
  {
   "cell_type": "code",
   "execution_count": null,
   "id": "88351d36-04ff-46af-a977-725e4a4dc1cc",
   "metadata": {},
   "outputs": [],
   "source": [
    "words_df_temp = words_df[words_df.index == 41]"
   ]
  },
  {
   "cell_type": "code",
   "execution_count": null,
   "id": "c662dd34-3223-4bde-8df9-91260a002d35",
   "metadata": {},
   "outputs": [],
   "source": [
    "words_df_temp.readme_contents"
   ]
  },
  {
   "cell_type": "code",
   "execution_count": null,
   "id": "0c45da6a-f79d-4b8d-9a13-ec0be6f4e6db",
   "metadata": {},
   "outputs": [],
   "source": [
    "cleaned_list = []\n",
    "\n",
    "def clean(text: str) -> list: \n",
    "    \"\"\"\n",
    "    Cleans up the input text data.\n",
    "    \"\"\"\n",
    "    text = (text.encode('ascii', 'ignore')\n",
    "                .decode('utf-8', 'ignore')\n",
    "                .lower())\n",
    "    \n",
    "    words = re.sub(r'[^\\w\\s]', ' ', text).split()\n",
    "    wnl = nltk.stem.WordNetLemmatizer()\n",
    "    stopwords = set(nltk.corpus.stopwords.words('english'))\n",
    "    \n",
    "    return [wnl.lemmatize(word) for word in words if word not in stopwords]\n",
    "\n",
    "for content in words_df.readme_contents:\n",
    "    cleaned_text = clean(content)\n",
    "    cleaned_list.append(cleaned_text)\n",
    "c"
   ]
  },
  {
   "cell_type": "code",
   "execution_count": null,
   "id": "f454276c-236b-4d34-9078-a1ebbdbea6fd",
   "metadata": {},
   "outputs": [],
   "source": [
    "def split_data(df, variable):\n",
    "    '''\n",
    "    take in a DataFrame and target variable. return train, validate, and test DataFrames.\n",
    "    return train, validate, test DataFrames.\n",
    "    '''\n",
    "    train_validate, test = train_test_split(df, test_size=.20, random_state=123, stratify=df[variable])\n",
    "    \n",
    "    train, validate = train_test_split(train_validate, \n",
    "                                       test_size=.25, \n",
    "                                       random_state=123,\n",
    "                                      stratify = train_validate[variable])\n",
    "    return train, validate, test"
   ]
  },
  {
   "cell_type": "code",
   "execution_count": null,
   "id": "3bcbc15e-1c5d-4f5d-8620-db59417596fe",
   "metadata": {},
   "outputs": [],
   "source": [
    "cleaned_list\n"
   ]
  },
  {
   "cell_type": "code",
   "execution_count": null,
   "id": "53ee6850-1ddf-4812-a9a2-23271b3d7b08",
   "metadata": {},
   "outputs": [],
   "source": [
    "se = pd.Series(cleaned_list)\n",
    "words_df['cleaned_text'] = se.values\n"
   ]
  },
  {
   "cell_type": "code",
   "execution_count": null,
   "id": "f006c344-471c-4c30-8d78-f2adf77d4f24",
   "metadata": {},
   "outputs": [],
   "source": [
    "words_df\n"
   ]
  },
  {
   "cell_type": "code",
   "execution_count": null,
   "id": "86437100-006c-44de-a96f-61d5f2acf60f",
   "metadata": {},
   "outputs": [],
   "source": [
    "train, validate, test = split_data(df, 'language')\n",
    "train.head()"
   ]
  },
  {
   "cell_type": "code",
   "execution_count": null,
   "id": "2e44959f-f300-44b1-840f-32a07e955778",
   "metadata": {},
   "outputs": [],
   "source": [
    "    separate specific words by language category"
   ]
  },
  {
   "cell_type": "code",
   "execution_count": null,
   "id": "d4a4d1af-f6b2-4e90-8b97-b3c2b1c54827",
   "metadata": {},
   "outputs": [],
   "source": [
    "# we can do that process with a join on a Series and not just a list\n",
    "# we will do that all words and categories\n",
    "# we will pass our basic cleaning on top of that\n",
    "\n",
    "JavaScript_words = clean(' '.join(train[train.language=='JavaScript']['clean_contents']))\n",
    "Python_words = clean(' '.join(train[train.language=='Python']['clean_contents']))\n",
    "Java_words = clean(' '.join(train[train.language=='Java']['clean_contents']))\n",
    "TypeScript_words = clean(' '.join(train[train.language=='TypeScript']['clean_contents']))\n",
    "HTML_words = clean(' '.join(train[train.language=='HTML']['clean_contents']))\n",
    "Other_words = clean(' '.join(train[train.language=='Other']['clean_contents']))\n",
    "all_words = clean(' '.join(train['clean_contents']))"
   ]
  },
  {
   "cell_type": "code",
   "execution_count": null,
   "id": "8a4bd39d-12ab-4f2c-9760-cca3576fce15",
   "metadata": {},
   "outputs": [],
   "source": [
    "JavaScript_words      "
   ]
  },
  {
   "cell_type": "code",
   "execution_count": null,
   "id": "61892b71-e5a7-4997-80f5-9ef948bf278f",
   "metadata": {},
   "outputs": [],
   "source": [
    "Python_words              "
   ]
  },
  {
   "cell_type": "code",
   "execution_count": null,
   "id": "52b8213b-90f2-4970-ae4b-89d2763c6b5c",
   "metadata": {},
   "outputs": [],
   "source": [
    "Java_words               "
   ]
  },
  {
   "cell_type": "code",
   "execution_count": null,
   "id": "f443b93a-4301-4b6e-a17e-e9d846d616ff",
   "metadata": {},
   "outputs": [],
   "source": [
    "HTML_words"
   ]
  },
  {
   "cell_type": "code",
   "execution_count": null,
   "id": "b29afad1-b1f1-4ca7-bc2a-ceb219532c91",
   "metadata": {},
   "outputs": [],
   "source": [
    "C_words"
   ]
  },
  {
   "cell_type": "code",
   "execution_count": null,
   "id": "04f8d59e-49da-4bd8-9063-437730e6cb4c",
   "metadata": {},
   "outputs": [],
   "source": [
    "Jupyter Notebook_words"
   ]
  },
  {
   "cell_type": "code",
   "execution_count": null,
   "id": "7c44874f-f42c-4cdd-bbdd-42cc90aa7f8d",
   "metadata": {},
   "outputs": [],
   "source": [
    "Shell_words"
   ]
  },
  {
   "cell_type": "code",
   "execution_count": null,
   "id": "1d056173-52b0-49ea-b086-c940eda9eae4",
   "metadata": {},
   "outputs": [],
   "source": [
    "Ruby_words\n",
    "C++_words\n",
    "CSS_words                  \n",
    "Go_words\n",
    "TypeScript           3\n",
    "SCSS                 2\n",
    "PowerShell           1\n",
    "Kotlin               1\n",
    "Bicep                1\n",
    "HCL                  1\n",
    "Vim script           1\n",
    "Objective-C          1\n",
    "Vue        "
   ]
  }
 ],
 "metadata": {
  "kernelspec": {
   "display_name": "Python 3 (ipykernel)",
   "language": "python",
   "name": "python3"
  },
  "language_info": {
   "codemirror_mode": {
    "name": "ipython",
    "version": 3
   },
   "file_extension": ".py",
   "mimetype": "text/x-python",
   "name": "python",
   "nbconvert_exporter": "python",
   "pygments_lexer": "ipython3",
   "version": "3.10.9"
  },
  "varInspector": {
   "cols": {
    "lenName": 16,
    "lenType": 16,
    "lenVar": 40
   },
   "kernels_config": {
    "python": {
     "delete_cmd_postfix": "",
     "delete_cmd_prefix": "del ",
     "library": "var_list.py",
     "varRefreshCmd": "print(var_dic_list())"
    },
    "r": {
     "delete_cmd_postfix": ") ",
     "delete_cmd_prefix": "rm(",
     "library": "var_list.r",
     "varRefreshCmd": "cat(var_dic_list()) "
    }
   },
   "types_to_exclude": [
    "module",
    "function",
    "builtin_function_or_method",
    "instance",
    "_Feature"
   ],
   "window_display": false
  }
 },
 "nbformat": 4,
 "nbformat_minor": 5
}
